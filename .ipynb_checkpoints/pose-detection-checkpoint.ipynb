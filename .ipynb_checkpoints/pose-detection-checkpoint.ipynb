{
 "cells": [
  {
   "cell_type": "code",
   "execution_count": 1,
   "id": "15155665",
   "metadata": {
    "_cell_guid": "b1076dfc-b9ad-4769-8c92-a6c4dae69d19",
    "_uuid": "8f2839f25d086af736a60e9eeb907d3b93b6e0e5",
    "execution": {
     "iopub.execute_input": "2023-11-15T06:30:23.046547Z",
     "iopub.status.busy": "2023-11-15T06:30:23.045674Z",
     "iopub.status.idle": "2023-11-15T06:30:24.310669Z",
     "shell.execute_reply": "2023-11-15T06:30:24.309642Z"
    },
    "papermill": {
     "duration": 1.273234,
     "end_time": "2023-11-15T06:30:24.312902",
     "exception": false,
     "start_time": "2023-11-15T06:30:23.039668",
     "status": "completed"
    },
    "tags": []
   },
   "outputs": [
    {
     "name": "stdout",
     "output_type": "stream",
     "text": [
      "/kaggle/input/expressions/coords.csv\n"
     ]
    }
   ],
   "source": [
    "# This Python 3 environment comes with many helpful analytics libraries installed\n",
    "# It is defined by the kaggle/python Docker image: https://github.com/kaggle/docker-python\n",
    "# For example, here's several helpful packages to load\n",
    "\n",
    "import numpy as np # linear algebra\n",
    "import pandas as pd # data processing, CSV file I/O (e.g. pd.read_csv)\n",
    "\n",
    "# Input data files are available in the read-only \"../input/\" directory\n",
    "# For example, running this (by clicking run or pressing Shift+Enter) will list all files under the input directory\n",
    "\n",
    "import os\n",
    "for dirname, _, filenames in os.walk('/kaggle/input'):\n",
    "    for filename in filenames:\n",
    "        print(os.path.join(dirname, filename))\n",
    "\n",
    "# You can write up to 20GB to the current directory (/kaggle/working/) that gets preserved as output when you create a version using \"Save & Run All\" \n",
    "# You can also write temporary files to /kaggle/temp/, but they won't be saved outside of the current session"
   ]
  },
  {
   "cell_type": "code",
   "execution_count": 2,
   "id": "1d8e089f",
   "metadata": {
    "execution": {
     "iopub.execute_input": "2023-11-15T06:30:24.323123Z",
     "iopub.status.busy": "2023-11-15T06:30:24.322748Z",
     "iopub.status.idle": "2023-11-15T06:30:25.698828Z",
     "shell.execute_reply": "2023-11-15T06:30:25.697832Z"
    },
    "papermill": {
     "duration": 1.383663,
     "end_time": "2023-11-15T06:30:25.701351",
     "exception": false,
     "start_time": "2023-11-15T06:30:24.317688",
     "status": "completed"
    },
    "tags": []
   },
   "outputs": [
    {
     "data": {
      "text/html": [
       "<div>\n",
       "<style scoped>\n",
       "    .dataframe tbody tr th:only-of-type {\n",
       "        vertical-align: middle;\n",
       "    }\n",
       "\n",
       "    .dataframe tbody tr th {\n",
       "        vertical-align: top;\n",
       "    }\n",
       "\n",
       "    .dataframe thead th {\n",
       "        text-align: right;\n",
       "    }\n",
       "</style>\n",
       "<table border=\"1\" class=\"dataframe\">\n",
       "  <thead>\n",
       "    <tr style=\"text-align: right;\">\n",
       "      <th></th>\n",
       "      <th>class</th>\n",
       "      <th>x1</th>\n",
       "      <th>y1</th>\n",
       "      <th>z1</th>\n",
       "      <th>v1</th>\n",
       "      <th>x2</th>\n",
       "      <th>y2</th>\n",
       "      <th>z2</th>\n",
       "      <th>v2</th>\n",
       "      <th>x3</th>\n",
       "      <th>...</th>\n",
       "      <th>z499</th>\n",
       "      <th>v499</th>\n",
       "      <th>x500</th>\n",
       "      <th>y500</th>\n",
       "      <th>z500</th>\n",
       "      <th>v500</th>\n",
       "      <th>x501</th>\n",
       "      <th>y501</th>\n",
       "      <th>z501</th>\n",
       "      <th>v501</th>\n",
       "    </tr>\n",
       "  </thead>\n",
       "  <tbody>\n",
       "    <tr>\n",
       "      <th>0</th>\n",
       "      <td>Happy</td>\n",
       "      <td>0.532494</td>\n",
       "      <td>0.512040</td>\n",
       "      <td>-1.345627</td>\n",
       "      <td>0.999751</td>\n",
       "      <td>0.575062</td>\n",
       "      <td>0.429581</td>\n",
       "      <td>-1.254157</td>\n",
       "      <td>0.999614</td>\n",
       "      <td>0.596264</td>\n",
       "      <td>...</td>\n",
       "      <td>-0.015141</td>\n",
       "      <td>0.0</td>\n",
       "      <td>0.639917</td>\n",
       "      <td>0.411263</td>\n",
       "      <td>0.006891</td>\n",
       "      <td>0.0</td>\n",
       "      <td>0.646426</td>\n",
       "      <td>0.404292</td>\n",
       "      <td>0.007035</td>\n",
       "      <td>0.0</td>\n",
       "    </tr>\n",
       "    <tr>\n",
       "      <th>1</th>\n",
       "      <td>Happy</td>\n",
       "      <td>0.535355</td>\n",
       "      <td>0.498713</td>\n",
       "      <td>-1.479161</td>\n",
       "      <td>0.999680</td>\n",
       "      <td>0.575681</td>\n",
       "      <td>0.414851</td>\n",
       "      <td>-1.375758</td>\n",
       "      <td>0.999485</td>\n",
       "      <td>0.597970</td>\n",
       "      <td>...</td>\n",
       "      <td>-0.014606</td>\n",
       "      <td>0.0</td>\n",
       "      <td>0.639056</td>\n",
       "      <td>0.408289</td>\n",
       "      <td>0.008215</td>\n",
       "      <td>0.0</td>\n",
       "      <td>0.645589</td>\n",
       "      <td>0.400930</td>\n",
       "      <td>0.008517</td>\n",
       "      <td>0.0</td>\n",
       "    </tr>\n",
       "    <tr>\n",
       "      <th>2</th>\n",
       "      <td>Happy</td>\n",
       "      <td>0.542006</td>\n",
       "      <td>0.491204</td>\n",
       "      <td>-1.593156</td>\n",
       "      <td>0.999610</td>\n",
       "      <td>0.578495</td>\n",
       "      <td>0.407340</td>\n",
       "      <td>-1.486254</td>\n",
       "      <td>0.999343</td>\n",
       "      <td>0.600943</td>\n",
       "      <td>...</td>\n",
       "      <td>-0.017001</td>\n",
       "      <td>0.0</td>\n",
       "      <td>0.640714</td>\n",
       "      <td>0.411250</td>\n",
       "      <td>0.004758</td>\n",
       "      <td>0.0</td>\n",
       "      <td>0.647222</td>\n",
       "      <td>0.403802</td>\n",
       "      <td>0.004923</td>\n",
       "      <td>0.0</td>\n",
       "    </tr>\n",
       "    <tr>\n",
       "      <th>3</th>\n",
       "      <td>Happy</td>\n",
       "      <td>0.546615</td>\n",
       "      <td>0.487380</td>\n",
       "      <td>-1.542380</td>\n",
       "      <td>0.999555</td>\n",
       "      <td>0.580367</td>\n",
       "      <td>0.403325</td>\n",
       "      <td>-1.436371</td>\n",
       "      <td>0.999239</td>\n",
       "      <td>0.602803</td>\n",
       "      <td>...</td>\n",
       "      <td>-0.014215</td>\n",
       "      <td>0.0</td>\n",
       "      <td>0.639628</td>\n",
       "      <td>0.413259</td>\n",
       "      <td>0.007276</td>\n",
       "      <td>0.0</td>\n",
       "      <td>0.646183</td>\n",
       "      <td>0.405961</td>\n",
       "      <td>0.007435</td>\n",
       "      <td>0.0</td>\n",
       "    </tr>\n",
       "    <tr>\n",
       "      <th>4</th>\n",
       "      <td>Happy</td>\n",
       "      <td>0.547439</td>\n",
       "      <td>0.486300</td>\n",
       "      <td>-1.536280</td>\n",
       "      <td>0.999530</td>\n",
       "      <td>0.581269</td>\n",
       "      <td>0.401759</td>\n",
       "      <td>-1.432943</td>\n",
       "      <td>0.999192</td>\n",
       "      <td>0.604040</td>\n",
       "      <td>...</td>\n",
       "      <td>-0.016719</td>\n",
       "      <td>0.0</td>\n",
       "      <td>0.637974</td>\n",
       "      <td>0.409523</td>\n",
       "      <td>0.003742</td>\n",
       "      <td>0.0</td>\n",
       "      <td>0.644492</td>\n",
       "      <td>0.402614</td>\n",
       "      <td>0.003771</td>\n",
       "      <td>0.0</td>\n",
       "    </tr>\n",
       "    <tr>\n",
       "      <th>...</th>\n",
       "      <td>...</td>\n",
       "      <td>...</td>\n",
       "      <td>...</td>\n",
       "      <td>...</td>\n",
       "      <td>...</td>\n",
       "      <td>...</td>\n",
       "      <td>...</td>\n",
       "      <td>...</td>\n",
       "      <td>...</td>\n",
       "      <td>...</td>\n",
       "      <td>...</td>\n",
       "      <td>...</td>\n",
       "      <td>...</td>\n",
       "      <td>...</td>\n",
       "      <td>...</td>\n",
       "      <td>...</td>\n",
       "      <td>...</td>\n",
       "      <td>...</td>\n",
       "      <td>...</td>\n",
       "      <td>...</td>\n",
       "      <td>...</td>\n",
       "    </tr>\n",
       "    <tr>\n",
       "      <th>1540</th>\n",
       "      <td>Victorious</td>\n",
       "      <td>0.509887</td>\n",
       "      <td>0.581298</td>\n",
       "      <td>-0.898511</td>\n",
       "      <td>0.999904</td>\n",
       "      <td>0.532869</td>\n",
       "      <td>0.519641</td>\n",
       "      <td>-0.822776</td>\n",
       "      <td>0.999856</td>\n",
       "      <td>0.549624</td>\n",
       "      <td>...</td>\n",
       "      <td>-0.008737</td>\n",
       "      <td>0.0</td>\n",
       "      <td>0.581029</td>\n",
       "      <td>0.531494</td>\n",
       "      <td>0.003445</td>\n",
       "      <td>0.0</td>\n",
       "      <td>0.585429</td>\n",
       "      <td>0.528317</td>\n",
       "      <td>0.003362</td>\n",
       "      <td>0.0</td>\n",
       "    </tr>\n",
       "    <tr>\n",
       "      <th>1541</th>\n",
       "      <td>Victorious</td>\n",
       "      <td>0.509484</td>\n",
       "      <td>0.581078</td>\n",
       "      <td>-0.888471</td>\n",
       "      <td>0.999893</td>\n",
       "      <td>0.532813</td>\n",
       "      <td>0.518719</td>\n",
       "      <td>-0.806704</td>\n",
       "      <td>0.999844</td>\n",
       "      <td>0.549598</td>\n",
       "      <td>...</td>\n",
       "      <td>-0.008061</td>\n",
       "      <td>0.0</td>\n",
       "      <td>0.586348</td>\n",
       "      <td>0.531126</td>\n",
       "      <td>0.004849</td>\n",
       "      <td>0.0</td>\n",
       "      <td>0.590858</td>\n",
       "      <td>0.527431</td>\n",
       "      <td>0.004906</td>\n",
       "      <td>0.0</td>\n",
       "    </tr>\n",
       "    <tr>\n",
       "      <th>1542</th>\n",
       "      <td>Victorious</td>\n",
       "      <td>0.509197</td>\n",
       "      <td>0.581145</td>\n",
       "      <td>-0.907407</td>\n",
       "      <td>0.999889</td>\n",
       "      <td>0.532860</td>\n",
       "      <td>0.519025</td>\n",
       "      <td>-0.829356</td>\n",
       "      <td>0.999841</td>\n",
       "      <td>0.549657</td>\n",
       "      <td>...</td>\n",
       "      <td>-0.007232</td>\n",
       "      <td>0.0</td>\n",
       "      <td>0.590595</td>\n",
       "      <td>0.525353</td>\n",
       "      <td>0.006123</td>\n",
       "      <td>0.0</td>\n",
       "      <td>0.595029</td>\n",
       "      <td>0.521763</td>\n",
       "      <td>0.006258</td>\n",
       "      <td>0.0</td>\n",
       "    </tr>\n",
       "    <tr>\n",
       "      <th>1543</th>\n",
       "      <td>Victorious</td>\n",
       "      <td>0.509191</td>\n",
       "      <td>0.581366</td>\n",
       "      <td>-0.853340</td>\n",
       "      <td>0.999856</td>\n",
       "      <td>0.533307</td>\n",
       "      <td>0.519200</td>\n",
       "      <td>-0.773075</td>\n",
       "      <td>0.999807</td>\n",
       "      <td>0.550130</td>\n",
       "      <td>...</td>\n",
       "      <td>-0.006530</td>\n",
       "      <td>0.0</td>\n",
       "      <td>0.592210</td>\n",
       "      <td>0.521565</td>\n",
       "      <td>0.006937</td>\n",
       "      <td>0.0</td>\n",
       "      <td>0.596873</td>\n",
       "      <td>0.517802</td>\n",
       "      <td>0.007014</td>\n",
       "      <td>0.0</td>\n",
       "    </tr>\n",
       "    <tr>\n",
       "      <th>1544</th>\n",
       "      <td>Victorious</td>\n",
       "      <td>0.509298</td>\n",
       "      <td>0.580467</td>\n",
       "      <td>-0.831523</td>\n",
       "      <td>0.999832</td>\n",
       "      <td>0.533843</td>\n",
       "      <td>0.516925</td>\n",
       "      <td>-0.749432</td>\n",
       "      <td>0.999783</td>\n",
       "      <td>0.550813</td>\n",
       "      <td>...</td>\n",
       "      <td>-0.007159</td>\n",
       "      <td>0.0</td>\n",
       "      <td>0.592583</td>\n",
       "      <td>0.517227</td>\n",
       "      <td>0.006318</td>\n",
       "      <td>0.0</td>\n",
       "      <td>0.597376</td>\n",
       "      <td>0.513239</td>\n",
       "      <td>0.006386</td>\n",
       "      <td>0.0</td>\n",
       "    </tr>\n",
       "  </tbody>\n",
       "</table>\n",
       "<p>1545 rows × 2005 columns</p>\n",
       "</div>"
      ],
      "text/plain": [
       "           class        x1        y1        z1        v1        x2        y2  \\\n",
       "0          Happy  0.532494  0.512040 -1.345627  0.999751  0.575062  0.429581   \n",
       "1          Happy  0.535355  0.498713 -1.479161  0.999680  0.575681  0.414851   \n",
       "2          Happy  0.542006  0.491204 -1.593156  0.999610  0.578495  0.407340   \n",
       "3          Happy  0.546615  0.487380 -1.542380  0.999555  0.580367  0.403325   \n",
       "4          Happy  0.547439  0.486300 -1.536280  0.999530  0.581269  0.401759   \n",
       "...          ...       ...       ...       ...       ...       ...       ...   \n",
       "1540  Victorious  0.509887  0.581298 -0.898511  0.999904  0.532869  0.519641   \n",
       "1541  Victorious  0.509484  0.581078 -0.888471  0.999893  0.532813  0.518719   \n",
       "1542  Victorious  0.509197  0.581145 -0.907407  0.999889  0.532860  0.519025   \n",
       "1543  Victorious  0.509191  0.581366 -0.853340  0.999856  0.533307  0.519200   \n",
       "1544  Victorious  0.509298  0.580467 -0.831523  0.999832  0.533843  0.516925   \n",
       "\n",
       "            z2        v2        x3  ...      z499  v499      x500      y500  \\\n",
       "0    -1.254157  0.999614  0.596264  ... -0.015141   0.0  0.639917  0.411263   \n",
       "1    -1.375758  0.999485  0.597970  ... -0.014606   0.0  0.639056  0.408289   \n",
       "2    -1.486254  0.999343  0.600943  ... -0.017001   0.0  0.640714  0.411250   \n",
       "3    -1.436371  0.999239  0.602803  ... -0.014215   0.0  0.639628  0.413259   \n",
       "4    -1.432943  0.999192  0.604040  ... -0.016719   0.0  0.637974  0.409523   \n",
       "...        ...       ...       ...  ...       ...   ...       ...       ...   \n",
       "1540 -0.822776  0.999856  0.549624  ... -0.008737   0.0  0.581029  0.531494   \n",
       "1541 -0.806704  0.999844  0.549598  ... -0.008061   0.0  0.586348  0.531126   \n",
       "1542 -0.829356  0.999841  0.549657  ... -0.007232   0.0  0.590595  0.525353   \n",
       "1543 -0.773075  0.999807  0.550130  ... -0.006530   0.0  0.592210  0.521565   \n",
       "1544 -0.749432  0.999783  0.550813  ... -0.007159   0.0  0.592583  0.517227   \n",
       "\n",
       "          z500  v500      x501      y501      z501  v501  \n",
       "0     0.006891   0.0  0.646426  0.404292  0.007035   0.0  \n",
       "1     0.008215   0.0  0.645589  0.400930  0.008517   0.0  \n",
       "2     0.004758   0.0  0.647222  0.403802  0.004923   0.0  \n",
       "3     0.007276   0.0  0.646183  0.405961  0.007435   0.0  \n",
       "4     0.003742   0.0  0.644492  0.402614  0.003771   0.0  \n",
       "...        ...   ...       ...       ...       ...   ...  \n",
       "1540  0.003445   0.0  0.585429  0.528317  0.003362   0.0  \n",
       "1541  0.004849   0.0  0.590858  0.527431  0.004906   0.0  \n",
       "1542  0.006123   0.0  0.595029  0.521763  0.006258   0.0  \n",
       "1543  0.006937   0.0  0.596873  0.517802  0.007014   0.0  \n",
       "1544  0.006318   0.0  0.597376  0.513239  0.006386   0.0  \n",
       "\n",
       "[1545 rows x 2005 columns]"
      ]
     },
     "execution_count": 2,
     "metadata": {},
     "output_type": "execute_result"
    }
   ],
   "source": [
    "df = pd.read_csv('/kaggle/input/expressions/coords.csv')\n",
    "df"
   ]
  },
  {
   "cell_type": "code",
   "execution_count": 3,
   "id": "80bf5a8c",
   "metadata": {
    "execution": {
     "iopub.execute_input": "2023-11-15T06:30:25.713245Z",
     "iopub.status.busy": "2023-11-15T06:30:25.712963Z",
     "iopub.status.idle": "2023-11-15T06:30:25.725660Z",
     "shell.execute_reply": "2023-11-15T06:30:25.724742Z"
    },
    "papermill": {
     "duration": 0.020914,
     "end_time": "2023-11-15T06:30:25.727892",
     "exception": false,
     "start_time": "2023-11-15T06:30:25.706978",
     "status": "completed"
    },
    "tags": []
   },
   "outputs": [],
   "source": [
    "X = df.iloc[:,1:]\n",
    "y = df.iloc[:,0]"
   ]
  },
  {
   "cell_type": "code",
   "execution_count": 4,
   "id": "20672730",
   "metadata": {
    "execution": {
     "iopub.execute_input": "2023-11-15T06:30:25.739729Z",
     "iopub.status.busy": "2023-11-15T06:30:25.739446Z",
     "iopub.status.idle": "2023-11-15T06:30:27.589114Z",
     "shell.execute_reply": "2023-11-15T06:30:27.588212Z"
    },
    "papermill": {
     "duration": 1.858307,
     "end_time": "2023-11-15T06:30:27.591675",
     "exception": false,
     "start_time": "2023-11-15T06:30:25.733368",
     "status": "completed"
    },
    "tags": []
   },
   "outputs": [
    {
     "name": "stderr",
     "output_type": "stream",
     "text": [
      "/opt/conda/lib/python3.10/site-packages/scipy/__init__.py:146: UserWarning: A NumPy version >=1.16.5 and <1.23.0 is required for this version of SciPy (detected version 1.23.5\n",
      "  warnings.warn(f\"A NumPy version >={np_minversion} and <{np_maxversion}\"\n"
     ]
    }
   ],
   "source": [
    "from sklearn.model_selection import train_test_split\n",
    "X_train, X_test, y_train, y_test = train_test_split(X, y, test_size=0.25, random_state=1234)"
   ]
  },
  {
   "cell_type": "code",
   "execution_count": null,
   "id": "c3957413",
   "metadata": {
    "execution": {
     "iopub.execute_input": "2023-11-09T04:16:03.423709Z",
     "iopub.status.busy": "2023-11-09T04:16:03.423386Z",
     "iopub.status.idle": "2023-11-09T04:16:03.459571Z",
     "shell.execute_reply": "2023-11-09T04:16:03.458483Z",
     "shell.execute_reply.started": "2023-11-09T04:16:03.423682Z"
    },
    "papermill": {
     "duration": 0.004737,
     "end_time": "2023-11-15T06:30:27.603225",
     "exception": false,
     "start_time": "2023-11-15T06:30:27.598488",
     "status": "completed"
    },
    "tags": []
   },
   "outputs": [],
   "source": []
  },
  {
   "cell_type": "code",
   "execution_count": 5,
   "id": "be306fe5",
   "metadata": {
    "execution": {
     "iopub.execute_input": "2023-11-15T06:30:27.614216Z",
     "iopub.status.busy": "2023-11-15T06:30:27.613900Z",
     "iopub.status.idle": "2023-11-15T06:30:28.211051Z",
     "shell.execute_reply": "2023-11-15T06:30:28.210191Z"
    },
    "papermill": {
     "duration": 0.605523,
     "end_time": "2023-11-15T06:30:28.213518",
     "exception": false,
     "start_time": "2023-11-15T06:30:27.607995",
     "status": "completed"
    },
    "tags": []
   },
   "outputs": [],
   "source": [
    "from sklearn.pipeline import make_pipeline\n",
    "from sklearn.preprocessing import StandardScaler\n",
    "from sklearn.linear_model import LogisticRegression, RidgeClassifier\n",
    "from sklearn.ensemble import RandomForestClassifier, GradientBoostingClassifier"
   ]
  },
  {
   "cell_type": "code",
   "execution_count": 6,
   "id": "6749c1d5",
   "metadata": {
    "execution": {
     "iopub.execute_input": "2023-11-15T06:30:28.225585Z",
     "iopub.status.busy": "2023-11-15T06:30:28.225281Z",
     "iopub.status.idle": "2023-11-15T06:30:28.230192Z",
     "shell.execute_reply": "2023-11-15T06:30:28.229316Z"
    },
    "papermill": {
     "duration": 0.013264,
     "end_time": "2023-11-15T06:30:28.232231",
     "exception": false,
     "start_time": "2023-11-15T06:30:28.218967",
     "status": "completed"
    },
    "tags": []
   },
   "outputs": [],
   "source": [
    "pipelines = {\n",
    "    'lr':make_pipeline(StandardScaler(),LogisticRegression()),\n",
    "    'rc':make_pipeline(StandardScaler(),RidgeClassifier()),\n",
    "    'rf':make_pipeline(StandardScaler(),RandomForestClassifier()),\n",
    "    'gb':make_pipeline(StandardScaler(),GradientBoostingClassifier())\n",
    "}"
   ]
  },
  {
   "cell_type": "code",
   "execution_count": 7,
   "id": "df20c2bd",
   "metadata": {
    "execution": {
     "iopub.execute_input": "2023-11-15T06:30:28.242826Z",
     "iopub.status.busy": "2023-11-15T06:30:28.242553Z",
     "iopub.status.idle": "2023-11-15T06:32:58.776909Z",
     "shell.execute_reply": "2023-11-15T06:32:58.776012Z"
    },
    "papermill": {
     "duration": 150.542785,
     "end_time": "2023-11-15T06:32:58.779725",
     "exception": false,
     "start_time": "2023-11-15T06:30:28.236940",
     "status": "completed"
    },
    "tags": []
   },
   "outputs": [
    {
     "name": "stderr",
     "output_type": "stream",
     "text": [
      "/opt/conda/lib/python3.10/site-packages/sklearn/linear_model/_logistic.py:458: ConvergenceWarning: lbfgs failed to converge (status=1):\n",
      "STOP: TOTAL NO. of ITERATIONS REACHED LIMIT.\n",
      "\n",
      "Increase the number of iterations (max_iter) or scale the data as shown in:\n",
      "    https://scikit-learn.org/stable/modules/preprocessing.html\n",
      "Please also refer to the documentation for alternative solver options:\n",
      "    https://scikit-learn.org/stable/modules/linear_model.html#logistic-regression\n",
      "  n_iter_i = _check_optimize_result(\n"
     ]
    }
   ],
   "source": [
    "fit_models = {}\n",
    "for key,val in pipelines.items():\n",
    "    fit_models[key] = val.fit(X_train,y_train)"
   ]
  },
  {
   "cell_type": "code",
   "execution_count": 8,
   "id": "7dce8bdc",
   "metadata": {
    "execution": {
     "iopub.execute_input": "2023-11-15T06:32:58.791318Z",
     "iopub.status.busy": "2023-11-15T06:32:58.791024Z",
     "iopub.status.idle": "2023-11-15T06:32:58.833934Z",
     "shell.execute_reply": "2023-11-15T06:32:58.832635Z"
    },
    "papermill": {
     "duration": 0.052331,
     "end_time": "2023-11-15T06:32:58.837438",
     "exception": false,
     "start_time": "2023-11-15T06:32:58.785107",
     "status": "completed"
    },
    "tags": []
   },
   "outputs": [
    {
     "data": {
      "text/plain": [
       "array(['Victorious', 'Happy', 'Victorious', 'Sad', 'Victorious', 'Sad',\n",
       "       'Happy', 'Victorious', 'Sad', 'Victorious', 'Victorious', 'Happy',\n",
       "       'Victorious', 'Victorious', 'Victorious', 'Sad', 'Sad',\n",
       "       'Victorious', 'Sad', 'Happy', 'Sad', 'Victorious', 'Happy',\n",
       "       'Victorious', 'Happy', 'Happy', 'Sad', 'Happy', 'Sad', 'Happy',\n",
       "       'Victorious', 'Happy', 'Happy', 'Victorious', 'Victorious',\n",
       "       'Victorious', 'Sad', 'Sad', 'Victorious', 'Sad', 'Sad', 'Sad',\n",
       "       'Sad', 'Sad', 'Sad', 'Sad', 'Victorious', 'Happy', 'Victorious',\n",
       "       'Happy', 'Happy', 'Happy', 'Victorious', 'Happy', 'Sad', 'Sad',\n",
       "       'Sad', 'Happy', 'Sad', 'Victorious', 'Victorious', 'Victorious',\n",
       "       'Sad', 'Victorious', 'Happy', 'Sad', 'Sad', 'Happy', 'Sad', 'Sad',\n",
       "       'Victorious', 'Victorious', 'Happy', 'Happy', 'Sad', 'Happy',\n",
       "       'Victorious', 'Sad', 'Sad', 'Sad', 'Sad', 'Victorious', 'Happy',\n",
       "       'Happy', 'Victorious', 'Happy', 'Sad', 'Victorious', 'Victorious',\n",
       "       'Victorious', 'Sad', 'Happy', 'Sad', 'Happy', 'Sad', 'Victorious',\n",
       "       'Happy', 'Victorious', 'Sad', 'Sad', 'Happy', 'Happy',\n",
       "       'Victorious', 'Victorious', 'Happy', 'Victorious', 'Victorious',\n",
       "       'Happy', 'Happy', 'Happy', 'Sad', 'Happy', 'Happy', 'Happy',\n",
       "       'Happy', 'Sad', 'Victorious', 'Victorious', 'Sad', 'Victorious',\n",
       "       'Sad', 'Sad', 'Sad', 'Sad', 'Sad', 'Victorious', 'Victorious',\n",
       "       'Sad', 'Victorious', 'Happy', 'Victorious', 'Victorious', 'Sad',\n",
       "       'Sad', 'Sad', 'Sad', 'Happy', 'Sad', 'Happy', 'Happy', 'Sad',\n",
       "       'Sad', 'Sad', 'Happy', 'Victorious', 'Victorious', 'Victorious',\n",
       "       'Happy', 'Sad', 'Happy', 'Happy', 'Victorious', 'Happy', 'Happy',\n",
       "       'Victorious', 'Sad', 'Happy', 'Happy', 'Happy', 'Sad', 'Happy',\n",
       "       'Sad', 'Happy', 'Happy', 'Happy', 'Victorious', 'Happy',\n",
       "       'Victorious', 'Sad', 'Victorious', 'Happy', 'Sad', 'Sad',\n",
       "       'Victorious', 'Sad', 'Victorious', 'Victorious', 'Sad', 'Sad',\n",
       "       'Happy', 'Sad', 'Victorious', 'Happy', 'Sad', 'Sad', 'Happy',\n",
       "       'Victorious', 'Sad', 'Sad', 'Happy', 'Happy', 'Victorious',\n",
       "       'Victorious', 'Happy', 'Victorious', 'Happy', 'Happy',\n",
       "       'Victorious', 'Victorious', 'Happy', 'Sad', 'Sad', 'Victorious',\n",
       "       'Happy', 'Sad', 'Sad', 'Sad', 'Victorious', 'Happy', 'Happy',\n",
       "       'Happy', 'Sad', 'Victorious', 'Happy', 'Happy', 'Victorious',\n",
       "       'Sad', 'Sad', 'Happy', 'Victorious', 'Happy', 'Happy', 'Sad',\n",
       "       'Happy', 'Victorious', 'Victorious', 'Happy', 'Victorious', 'Sad',\n",
       "       'Happy', 'Victorious', 'Sad', 'Victorious', 'Sad', 'Happy', 'Sad',\n",
       "       'Happy', 'Sad', 'Happy', 'Sad', 'Victorious', 'Sad', 'Sad', 'Sad',\n",
       "       'Happy', 'Happy', 'Victorious', 'Sad', 'Sad', 'Happy',\n",
       "       'Victorious', 'Victorious', 'Sad', 'Happy', 'Victorious', 'Sad',\n",
       "       'Victorious', 'Sad', 'Happy', 'Victorious', 'Sad', 'Sad',\n",
       "       'Victorious', 'Victorious', 'Happy', 'Happy', 'Victorious',\n",
       "       'Victorious', 'Sad', 'Happy', 'Happy', 'Victorious', 'Happy',\n",
       "       'Victorious', 'Sad', 'Happy', 'Victorious', 'Happy', 'Victorious',\n",
       "       'Happy', 'Sad', 'Victorious', 'Happy', 'Happy', 'Victorious',\n",
       "       'Victorious', 'Sad', 'Victorious', 'Happy', 'Happy', 'Happy',\n",
       "       'Happy', 'Sad', 'Sad', 'Victorious', 'Sad', 'Sad', 'Victorious',\n",
       "       'Happy', 'Sad', 'Happy', 'Victorious', 'Sad', 'Victorious', 'Sad',\n",
       "       'Victorious', 'Happy', 'Sad', 'Sad', 'Victorious', 'Happy', 'Sad',\n",
       "       'Sad', 'Sad', 'Victorious', 'Victorious', 'Happy', 'Victorious',\n",
       "       'Happy', 'Sad', 'Happy', 'Happy', 'Victorious', 'Victorious',\n",
       "       'Sad', 'Happy', 'Sad', 'Happy', 'Victorious', 'Happy', 'Happy',\n",
       "       'Happy', 'Happy', 'Happy', 'Happy', 'Victorious', 'Sad',\n",
       "       'Victorious', 'Sad', 'Sad', 'Victorious', 'Happy', 'Sad', 'Sad',\n",
       "       'Sad', 'Sad', 'Sad', 'Happy', 'Sad', 'Happy', 'Victorious', 'Sad',\n",
       "       'Happy', 'Victorious', 'Victorious', 'Happy', 'Victorious', 'Sad',\n",
       "       'Happy', 'Victorious', 'Happy', 'Sad', 'Sad', 'Happy',\n",
       "       'Victorious', 'Happy', 'Happy', 'Sad', 'Victorious', 'Sad',\n",
       "       'Happy', 'Sad', 'Happy', 'Victorious', 'Happy', 'Victorious',\n",
       "       'Victorious', 'Happy', 'Sad', 'Sad', 'Sad', 'Sad', 'Happy', 'Sad',\n",
       "       'Sad', 'Sad', 'Victorious'], dtype='<U10')"
      ]
     },
     "execution_count": 8,
     "metadata": {},
     "output_type": "execute_result"
    }
   ],
   "source": [
    "fit_models['rc'].predict(X_test)"
   ]
  },
  {
   "cell_type": "code",
   "execution_count": 9,
   "id": "69332edb",
   "metadata": {
    "execution": {
     "iopub.execute_input": "2023-11-15T06:32:58.860938Z",
     "iopub.status.busy": "2023-11-15T06:32:58.860419Z",
     "iopub.status.idle": "2023-11-15T06:32:58.866365Z",
     "shell.execute_reply": "2023-11-15T06:32:58.865159Z"
    },
    "papermill": {
     "duration": 0.021297,
     "end_time": "2023-11-15T06:32:58.869613",
     "exception": false,
     "start_time": "2023-11-15T06:32:58.848316",
     "status": "completed"
    },
    "tags": []
   },
   "outputs": [],
   "source": [
    "from sklearn.metrics import accuracy_score\n",
    "import pickle"
   ]
  },
  {
   "cell_type": "code",
   "execution_count": 10,
   "id": "8bc11d1a",
   "metadata": {
    "execution": {
     "iopub.execute_input": "2023-11-15T06:32:58.893328Z",
     "iopub.status.busy": "2023-11-15T06:32:58.892847Z",
     "iopub.status.idle": "2023-11-15T06:32:59.147129Z",
     "shell.execute_reply": "2023-11-15T06:32:59.146047Z"
    },
    "papermill": {
     "duration": 0.268801,
     "end_time": "2023-11-15T06:32:59.149171",
     "exception": false,
     "start_time": "2023-11-15T06:32:58.880370",
     "status": "completed"
    },
    "tags": []
   },
   "outputs": [
    {
     "name": "stdout",
     "output_type": "stream",
     "text": [
      "lr 1.0\n",
      "rc 1.0\n",
      "rf 0.9974160206718347\n",
      "gb 1.0\n"
     ]
    }
   ],
   "source": [
    "for algo, model in fit_models.items():\n",
    "    yhat = model.predict(X_test)\n",
    "    print(algo, accuracy_score(yhat,y_test))"
   ]
  },
  {
   "cell_type": "code",
   "execution_count": 11,
   "id": "5a89fb94",
   "metadata": {
    "execution": {
     "iopub.execute_input": "2023-11-15T06:32:59.162560Z",
     "iopub.status.busy": "2023-11-15T06:32:59.162207Z",
     "iopub.status.idle": "2023-11-15T06:32:59.167912Z",
     "shell.execute_reply": "2023-11-15T06:32:59.167017Z"
    },
    "papermill": {
     "duration": 0.015162,
     "end_time": "2023-11-15T06:32:59.169933",
     "exception": false,
     "start_time": "2023-11-15T06:32:59.154771",
     "status": "completed"
    },
    "tags": []
   },
   "outputs": [],
   "source": [
    "with open('body_language.pkl','wb') as f:\n",
    "    pickle.dump(fit_models['rc'],f)"
   ]
  },
  {
   "cell_type": "code",
   "execution_count": null,
   "id": "8674e309",
   "metadata": {
    "papermill": {
     "duration": 0.005148,
     "end_time": "2023-11-15T06:32:59.180526",
     "exception": false,
     "start_time": "2023-11-15T06:32:59.175378",
     "status": "completed"
    },
    "tags": []
   },
   "outputs": [],
   "source": []
  }
 ],
 "metadata": {
  "kaggle": {
   "accelerator": "nvidiaTeslaT4",
   "dataSources": [
    {
     "datasetId": 3974931,
     "sourceId": 6922460,
     "sourceType": "datasetVersion"
    }
   ],
   "dockerImageVersionId": 30559,
   "isGpuEnabled": true,
   "isInternetEnabled": true,
   "language": "python",
   "sourceType": "notebook"
  },
  "kernelspec": {
   "display_name": "Python 3",
   "language": "python",
   "name": "python3"
  },
  "language_info": {
   "codemirror_mode": {
    "name": "ipython",
    "version": 3
   },
   "file_extension": ".py",
   "mimetype": "text/x-python",
   "name": "python",
   "nbconvert_exporter": "python",
   "pygments_lexer": "ipython3",
   "version": "3.10.12"
  },
  "papermill": {
   "default_parameters": {},
   "duration": 161.367265,
   "end_time": "2023-11-15T06:32:59.604572",
   "environment_variables": {},
   "exception": null,
   "input_path": "__notebook__.ipynb",
   "output_path": "__notebook__.ipynb",
   "parameters": {},
   "start_time": "2023-11-15T06:30:18.237307",
   "version": "2.4.0"
  }
 },
 "nbformat": 4,
 "nbformat_minor": 5
}
